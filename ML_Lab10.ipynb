{
 "cells": [
  {
   "cell_type": "code",
   "execution_count": 1,
   "metadata": {
    "colab": {},
    "colab_type": "code",
    "id": "aI_HNC44m9it"
   },
   "outputs": [
    {
     "name": "stdout",
     "output_type": "stream",
     "text": [
      "Requirement already satisfied: tensorflow==1.15.0 in ./opt/anaconda3/lib/python3.7/site-packages (1.15.0)\n",
      "Requirement already satisfied: six>=1.10.0 in ./opt/anaconda3/lib/python3.7/site-packages (from tensorflow==1.15.0) (1.14.0)\n",
      "Requirement already satisfied: tensorflow-estimator==1.15.1 in ./opt/anaconda3/lib/python3.7/site-packages (from tensorflow==1.15.0) (1.15.1)\n",
      "Requirement already satisfied: wheel>=0.26 in ./opt/anaconda3/lib/python3.7/site-packages (from tensorflow==1.15.0) (0.34.2)\n",
      "Requirement already satisfied: numpy<2.0,>=1.16.0 in ./opt/anaconda3/lib/python3.7/site-packages (from tensorflow==1.15.0) (1.18.1)\n",
      "Requirement already satisfied: tensorboard<1.16.0,>=1.15.0 in ./opt/anaconda3/lib/python3.7/site-packages (from tensorflow==1.15.0) (1.15.0)\n",
      "Requirement already satisfied: protobuf>=3.6.1 in ./opt/anaconda3/lib/python3.7/site-packages (from tensorflow==1.15.0) (3.12.2)\n",
      "Requirement already satisfied: termcolor>=1.1.0 in ./opt/anaconda3/lib/python3.7/site-packages (from tensorflow==1.15.0) (1.1.0)\n",
      "Requirement already satisfied: opt-einsum>=2.3.2 in ./opt/anaconda3/lib/python3.7/site-packages (from tensorflow==1.15.0) (3.2.1)\n",
      "Requirement already satisfied: keras-applications>=1.0.8 in ./opt/anaconda3/lib/python3.7/site-packages (from tensorflow==1.15.0) (1.0.8)\n",
      "Requirement already satisfied: absl-py>=0.7.0 in ./opt/anaconda3/lib/python3.7/site-packages (from tensorflow==1.15.0) (0.9.0)\n",
      "Requirement already satisfied: astor>=0.6.0 in ./opt/anaconda3/lib/python3.7/site-packages (from tensorflow==1.15.0) (0.8.1)\n",
      "Requirement already satisfied: wrapt>=1.11.1 in ./opt/anaconda3/lib/python3.7/site-packages (from tensorflow==1.15.0) (1.11.2)\n",
      "Requirement already satisfied: gast==0.2.2 in ./opt/anaconda3/lib/python3.7/site-packages (from tensorflow==1.15.0) (0.2.2)\n",
      "Requirement already satisfied: keras-preprocessing>=1.0.5 in ./opt/anaconda3/lib/python3.7/site-packages (from tensorflow==1.15.0) (1.1.2)\n",
      "Requirement already satisfied: grpcio>=1.8.6 in ./opt/anaconda3/lib/python3.7/site-packages (from tensorflow==1.15.0) (1.29.0)\n",
      "Requirement already satisfied: google-pasta>=0.1.6 in ./opt/anaconda3/lib/python3.7/site-packages (from tensorflow==1.15.0) (0.2.0)\n",
      "Requirement already satisfied: werkzeug>=0.11.15 in ./opt/anaconda3/lib/python3.7/site-packages (from tensorboard<1.16.0,>=1.15.0->tensorflow==1.15.0) (1.0.0)\n",
      "Requirement already satisfied: setuptools>=41.0.0 in ./opt/anaconda3/lib/python3.7/site-packages (from tensorboard<1.16.0,>=1.15.0->tensorflow==1.15.0) (46.0.0.post20200309)\n",
      "Requirement already satisfied: markdown>=2.6.8 in ./opt/anaconda3/lib/python3.7/site-packages (from tensorboard<1.16.0,>=1.15.0->tensorflow==1.15.0) (3.2.2)\n",
      "Requirement already satisfied: h5py in ./opt/anaconda3/lib/python3.7/site-packages (from keras-applications>=1.0.8->tensorflow==1.15.0) (2.10.0)\n",
      "Requirement already satisfied: importlib-metadata; python_version < \"3.8\" in ./opt/anaconda3/lib/python3.7/site-packages (from markdown>=2.6.8->tensorboard<1.16.0,>=1.15.0->tensorflow==1.15.0) (1.5.0)\n",
      "Requirement already satisfied: zipp>=0.5 in ./opt/anaconda3/lib/python3.7/site-packages (from importlib-metadata; python_version < \"3.8\"->markdown>=2.6.8->tensorboard<1.16.0,>=1.15.0->tensorflow==1.15.0) (2.2.0)\n"
     ]
    }
   ],
   "source": [
    "import sys \n",
    "!{sys.executable} -m pip install tensorflow==1.15.0\n",
    "import tensorflow as tf"
   ]
  },
  {
   "cell_type": "code",
   "execution_count": 2,
   "metadata": {
    "colab": {},
    "colab_type": "code",
    "id": "LJkMY_5Um-7C"
   },
   "outputs": [],
   "source": [
    "from tensorflow.examples.tutorials.mnist import input_data"
   ]
  },
  {
   "cell_type": "code",
   "execution_count": 3,
   "metadata": {
    "colab": {
     "base_uri": "https://localhost:8080/",
     "height": 85
    },
    "colab_type": "code",
    "executionInfo": {
     "elapsed": 1518,
     "status": "ok",
     "timestamp": 1575409286586,
     "user": {
      "displayName": "Pedro Sanchez",
      "photoUrl": "https://lh3.googleusercontent.com/a-/AAuE7mCMr-sLtkn_DuimBhE5T8I0exHI_vS8yvOPBKarPLTIyG5Ayww_Bzke1jSuk0ZIEQPLmC8WsyKB7VwN-xI7JtH6dPRpyN1qiTiAaYUU3vZtSOqA6e71dHykZ07lBE6mGBM4JHUPNedTuW2542JbA5T4uTdEk7Ft1qgtEXD7K3GUCuQYlSpuRgpJm-6wudHZ_vAZjL1s2lZVJ4Mei58F2OmJG1nBjmGCfFzXqwzqYzk0IP-ZeUWRuIMbWZH-xlQ3z7P8aBCidwkodGv24Q2G6y7Kruxp551-ydsvL3zeFJWs3PB9wbEKGPUyCIknDAslzWRow8oCU1k-OhIs8Mn_EfJMizQbizr6IlfjtrQhrHaZVihxJLnqcnOHIaU9tgkmkdZWjkkeRA4xDOYMoWUGtS61hugCVDhsQHDPpn4yhiISmrS4j9XKQ4SF-tZKcJ9vHiBJ2imO7r6cvbDiAyguaDQDtf3S5n-_BfKuQWYSCIbJUoyXjS6cLUV3j9nwou_q7G5jw2uRv0YjSlY4iRaiT6F1Hd_wzIWkkpmtVipbDTIVES6O0JFxGgU1BAHmw1GSXpK4X75hHEXUUPheaQ12KNhs8OF5D7f9MN-s7AKTU6jhC58OvLWMk6xGp7MafxqVnsOAlrFy8BqVN3CXP7FIL842H7yj8kN-vWviGFaC_iZ_AlmEmXurZ6YHU6XPmfApOsibaBsW81aJ7lelLFcAzNJPB9JnbjkyLmQ13NOyMkctJHzt8N9P83GXxiPtP7k=s64",
      "userId": "12425416569280044021"
     },
     "user_tz": 480
    },
    "id": "Lz59ytCFnaNo",
    "outputId": "7e7d2b48-709e-40c1-ece8-22bdaff362d0"
   },
   "outputs": [
    {
     "name": "stdout",
     "output_type": "stream",
     "text": [
      "WARNING:tensorflow:From <ipython-input-3-a839aeb82f4b>:1: read_data_sets (from tensorflow.contrib.learn.python.learn.datasets.mnist) is deprecated and will be removed in a future version.\n",
      "Instructions for updating:\n",
      "Please use alternatives such as official/mnist/dataset.py from tensorflow/models.\n",
      "WARNING:tensorflow:From /Users/shreyade/opt/anaconda3/lib/python3.7/site-packages/tensorflow_core/contrib/learn/python/learn/datasets/mnist.py:260: maybe_download (from tensorflow.contrib.learn.python.learn.datasets.base) is deprecated and will be removed in a future version.\n",
      "Instructions for updating:\n",
      "Please write your own downloading logic.\n",
      "WARNING:tensorflow:From /Users/shreyade/opt/anaconda3/lib/python3.7/site-packages/tensorflow_core/contrib/learn/python/learn/datasets/mnist.py:262: extract_images (from tensorflow.contrib.learn.python.learn.datasets.mnist) is deprecated and will be removed in a future version.\n",
      "Instructions for updating:\n",
      "Please use tf.data to implement this functionality.\n",
      "Extracting MNIST_data/train-images-idx3-ubyte.gz\n",
      "WARNING:tensorflow:From /Users/shreyade/opt/anaconda3/lib/python3.7/site-packages/tensorflow_core/contrib/learn/python/learn/datasets/mnist.py:267: extract_labels (from tensorflow.contrib.learn.python.learn.datasets.mnist) is deprecated and will be removed in a future version.\n",
      "Instructions for updating:\n",
      "Please use tf.data to implement this functionality.\n",
      "Extracting MNIST_data/train-labels-idx1-ubyte.gz\n",
      "WARNING:tensorflow:From /Users/shreyade/opt/anaconda3/lib/python3.7/site-packages/tensorflow_core/contrib/learn/python/learn/datasets/mnist.py:110: dense_to_one_hot (from tensorflow.contrib.learn.python.learn.datasets.mnist) is deprecated and will be removed in a future version.\n",
      "Instructions for updating:\n",
      "Please use tf.one_hot on tensors.\n",
      "Extracting MNIST_data/t10k-images-idx3-ubyte.gz\n",
      "Extracting MNIST_data/t10k-labels-idx1-ubyte.gz\n",
      "WARNING:tensorflow:From /Users/shreyade/opt/anaconda3/lib/python3.7/site-packages/tensorflow_core/contrib/learn/python/learn/datasets/mnist.py:290: DataSet.__init__ (from tensorflow.contrib.learn.python.learn.datasets.mnist) is deprecated and will be removed in a future version.\n",
      "Instructions for updating:\n",
      "Please use alternatives such as official/mnist/dataset.py from tensorflow/models.\n"
     ]
    }
   ],
   "source": [
    "mnist = input_data.read_data_sets(\"MNIST_data/\", one_hot=True)"
   ]
  },
  {
   "cell_type": "code",
   "execution_count": 4,
   "metadata": {
    "colab": {},
    "colab_type": "code",
    "id": "W7p_gVRxncTk"
   },
   "outputs": [],
   "source": [
    "n_train = mnist.train.num_examples  # 55,000\n",
    "n_validation = mnist.validation.num_examples  # 5000\n",
    "n_test = mnist.test.num_examples  # 10,000"
   ]
  },
  {
   "cell_type": "code",
   "execution_count": 5,
   "metadata": {
    "colab": {},
    "colab_type": "code",
    "id": "mZr_3qpNnwT6"
   },
   "outputs": [],
   "source": [
    "n_input = 784  # input layer (28x28 pixels)\n",
    "#increase number of hiden layers:\n",
    "n_hidden1 = 750  # 1st hidden layer: 600 increases\n",
    "n_output = 10  # output layer (0-9 digits)"
   ]
  },
  {
   "cell_type": "code",
   "execution_count": 6,
   "metadata": {
    "colab": {},
    "colab_type": "code",
    "id": "XRtjMUqBn828"
   },
   "outputs": [],
   "source": [
    "learning_rate = 1e-4\n",
    "n_iterations = 3050 #increase number of iterations\n",
    "batch_size = 128\n",
    "dropout = 0.5"
   ]
  },
  {
   "cell_type": "code",
   "execution_count": 7,
   "metadata": {
    "colab": {},
    "colab_type": "code",
    "id": "1hK3jO7yoK73"
   },
   "outputs": [],
   "source": [
    "X = tf.placeholder(\"float\", [None, n_input]) # tf.compat.v1.placeholder(dtype, shape=None, name=None)\n",
    "Y = tf.placeholder(\"float\", [None, n_output])\n",
    "keep_prob = tf.placeholder(tf.float32)"
   ]
  },
  {
   "cell_type": "code",
   "execution_count": 8,
   "metadata": {
    "colab": {},
    "colab_type": "code",
    "id": "tut8TVp4oWhL"
   },
   "outputs": [],
   "source": [
    "weights = {\n",
    "    'w1': tf.Variable(tf.truncated_normal([n_input, n_hidden1], stddev=0.1)),\n",
    "    'out': tf.Variable(tf.truncated_normal([n_hidden1, n_output], stddev=0.1)),\n",
    "}"
   ]
  },
  {
   "cell_type": "code",
   "execution_count": 9,
   "metadata": {
    "colab": {},
    "colab_type": "code",
    "id": "wlc8xJBco0A4"
   },
   "outputs": [],
   "source": [
    "biases = {\n",
    "    'b1': tf.Variable(tf.constant(0.1, shape=[n_hidden1])),\n",
    "    'out': tf.Variable(tf.constant(0.1, shape=[n_output]))\n",
    "}"
   ]
  },
  {
   "cell_type": "code",
   "execution_count": 10,
   "metadata": {
    "colab": {},
    "colab_type": "code",
    "id": "ySV62pA4o0Um"
   },
   "outputs": [
    {
     "name": "stdout",
     "output_type": "stream",
     "text": [
      "WARNING:tensorflow:From <ipython-input-10-c187c66b9fb6>:2: calling dropout (from tensorflow.python.ops.nn_ops) with keep_prob is deprecated and will be removed in a future version.\n",
      "Instructions for updating:\n",
      "Please use `rate` instead of `keep_prob`. Rate should be set to `rate = 1 - keep_prob`.\n"
     ]
    }
   ],
   "source": [
    "layer_1 = tf.add(tf.matmul(X, weights['w1']), biases['b1'])\n",
    "layer_drop = tf.nn.dropout(layer_1, keep_prob)\n",
    "output_layer = tf.matmul(layer_1, weights['out']) + biases['out']"
   ]
  },
  {
   "cell_type": "code",
   "execution_count": 11,
   "metadata": {
    "colab": {},
    "colab_type": "code",
    "id": "LpBcLj1Lo7pP"
   },
   "outputs": [
    {
     "name": "stdout",
     "output_type": "stream",
     "text": [
      "WARNING:tensorflow:From <ipython-input-11-a712c0a48de1>:3: softmax_cross_entropy_with_logits (from tensorflow.python.ops.nn_ops) is deprecated and will be removed in a future version.\n",
      "Instructions for updating:\n",
      "\n",
      "Future major versions of TensorFlow will allow gradients to flow\n",
      "into the labels input on backprop by default.\n",
      "\n",
      "See `tf.nn.softmax_cross_entropy_with_logits_v2`.\n",
      "\n"
     ]
    }
   ],
   "source": [
    "cross_entropy = tf.reduce_mean(\n",
    "    tf.nn.softmax_cross_entropy_with_logits(\n",
    "        labels=Y, logits=output_layer\n",
    "        ))\n",
    "train_step = tf.train.AdamOptimizer(1e-4).minimize(cross_entropy)"
   ]
  },
  {
   "cell_type": "code",
   "execution_count": 12,
   "metadata": {
    "colab": {},
    "colab_type": "code",
    "id": "-McOy2sLpM59"
   },
   "outputs": [],
   "source": [
    "correct_pred = tf.equal(tf.argmax(output_layer, 1), tf.argmax(Y, 1))\n",
    "accuracy = tf.reduce_mean(tf.cast(correct_pred, tf.float32))"
   ]
  },
  {
   "cell_type": "code",
   "execution_count": 13,
   "metadata": {
    "colab": {},
    "colab_type": "code",
    "id": "wYgglU_ypwxo"
   },
   "outputs": [],
   "source": [
    "init = tf.global_variables_initializer()\n",
    "sess = tf.Session()\n",
    "sess.run(init)"
   ]
  },
  {
   "cell_type": "code",
   "execution_count": 14,
   "metadata": {
    "colab": {
     "base_uri": "https://localhost:8080/",
     "height": 187
    },
    "colab_type": "code",
    "executionInfo": {
     "elapsed": 8099,
     "status": "ok",
     "timestamp": 1575409293486,
     "user": {
      "displayName": "Pedro Sanchez",
      "photoUrl": "https://lh3.googleusercontent.com/a-/AAuE7mCMr-sLtkn_DuimBhE5T8I0exHI_vS8yvOPBKarPLTIyG5Ayww_Bzke1jSuk0ZIEQPLmC8WsyKB7VwN-xI7JtH6dPRpyN1qiTiAaYUU3vZtSOqA6e71dHykZ07lBE6mGBM4JHUPNedTuW2542JbA5T4uTdEk7Ft1qgtEXD7K3GUCuQYlSpuRgpJm-6wudHZ_vAZjL1s2lZVJ4Mei58F2OmJG1nBjmGCfFzXqwzqYzk0IP-ZeUWRuIMbWZH-xlQ3z7P8aBCidwkodGv24Q2G6y7Kruxp551-ydsvL3zeFJWs3PB9wbEKGPUyCIknDAslzWRow8oCU1k-OhIs8Mn_EfJMizQbizr6IlfjtrQhrHaZVihxJLnqcnOHIaU9tgkmkdZWjkkeRA4xDOYMoWUGtS61hugCVDhsQHDPpn4yhiISmrS4j9XKQ4SF-tZKcJ9vHiBJ2imO7r6cvbDiAyguaDQDtf3S5n-_BfKuQWYSCIbJUoyXjS6cLUV3j9nwou_q7G5jw2uRv0YjSlY4iRaiT6F1Hd_wzIWkkpmtVipbDTIVES6O0JFxGgU1BAHmw1GSXpK4X75hHEXUUPheaQ12KNhs8OF5D7f9MN-s7AKTU6jhC58OvLWMk6xGp7MafxqVnsOAlrFy8BqVN3CXP7FIL842H7yj8kN-vWviGFaC_iZ_AlmEmXurZ6YHU6XPmfApOsibaBsW81aJ7lelLFcAzNJPB9JnbjkyLmQ13NOyMkctJHzt8N9P83GXxiPtP7k=s64",
      "userId": "12425416569280044021"
     },
     "user_tz": 480
    },
    "id": "OnkdmZErpzMq",
    "outputId": "6533ae2b-a9cc-4ba4-9651-ab497411717a"
   },
   "outputs": [
    {
     "name": "stdout",
     "output_type": "stream",
     "text": [
      "Iteration 0 \t| Loss = 3.5025058 \t| Accuracy = 0.0625\n",
      "Iteration 100 \t| Loss = 0.6687896 \t| Accuracy = 0.796875\n",
      "Iteration 200 \t| Loss = 0.49704415 \t| Accuracy = 0.8828125\n",
      "Iteration 300 \t| Loss = 0.48473436 \t| Accuracy = 0.8515625\n",
      "Iteration 400 \t| Loss = 0.34217435 \t| Accuracy = 0.890625\n",
      "Iteration 500 \t| Loss = 0.23878396 \t| Accuracy = 0.9296875\n",
      "Iteration 600 \t| Loss = 0.4086242 \t| Accuracy = 0.8671875\n",
      "Iteration 700 \t| Loss = 0.41506106 \t| Accuracy = 0.9140625\n",
      "Iteration 800 \t| Loss = 0.26375628 \t| Accuracy = 0.9375\n",
      "Iteration 900 \t| Loss = 0.20145127 \t| Accuracy = 0.9453125\n",
      "Iteration 1000 \t| Loss = 0.30707055 \t| Accuracy = 0.9140625\n",
      "Iteration 1100 \t| Loss = 0.276237 \t| Accuracy = 0.9296875\n",
      "Iteration 1200 \t| Loss = 0.21382262 \t| Accuracy = 0.9375\n",
      "Iteration 1300 \t| Loss = 0.28452522 \t| Accuracy = 0.9296875\n",
      "Iteration 1400 \t| Loss = 0.24654372 \t| Accuracy = 0.8984375\n",
      "Iteration 1500 \t| Loss = 0.36805356 \t| Accuracy = 0.890625\n",
      "Iteration 1600 \t| Loss = 0.272992 \t| Accuracy = 0.921875\n",
      "Iteration 1700 \t| Loss = 0.26925337 \t| Accuracy = 0.890625\n",
      "Iteration 1800 \t| Loss = 0.17520289 \t| Accuracy = 0.9296875\n",
      "Iteration 1900 \t| Loss = 0.25240627 \t| Accuracy = 0.921875\n",
      "Iteration 2000 \t| Loss = 0.19618186 \t| Accuracy = 0.9296875\n",
      "Iteration 2100 \t| Loss = 0.19829781 \t| Accuracy = 0.953125\n",
      "Iteration 2200 \t| Loss = 0.25370455 \t| Accuracy = 0.921875\n",
      "Iteration 2300 \t| Loss = 0.27720314 \t| Accuracy = 0.9140625\n",
      "Iteration 2400 \t| Loss = 0.29218012 \t| Accuracy = 0.953125\n",
      "Iteration 2500 \t| Loss = 0.3233691 \t| Accuracy = 0.8984375\n",
      "Iteration 2600 \t| Loss = 0.2130557 \t| Accuracy = 0.953125\n",
      "Iteration 2700 \t| Loss = 0.15848207 \t| Accuracy = 0.953125\n",
      "Iteration 2800 \t| Loss = 0.18701327 \t| Accuracy = 0.9375\n",
      "Iteration 2900 \t| Loss = 0.29781485 \t| Accuracy = 0.890625\n",
      "Iteration 3000 \t| Loss = 0.31275725 \t| Accuracy = 0.890625\n"
     ]
    }
   ],
   "source": [
    "# train on mini batches\n",
    "for i in range(n_iterations):\n",
    "    batch_x, batch_y = mnist.train.next_batch(batch_size)\n",
    "    sess.run(train_step, feed_dict={\n",
    "        X: batch_x, Y: batch_y, keep_prob: dropout\n",
    "        })\n",
    "\n",
    "    # print loss and accuracy (per minibatch)\n",
    "    if i % 100 == 0:\n",
    "        minibatch_loss, minibatch_accuracy = sess.run(\n",
    "            [cross_entropy, accuracy],\n",
    "            feed_dict={X: batch_x, Y: batch_y, keep_prob: 1.0}\n",
    "            )\n",
    "        print(\n",
    "            \"Iteration\",\n",
    "            str(i),\n",
    "            \"\\t| Loss =\",\n",
    "            str(minibatch_loss),\n",
    "            \"\\t| Accuracy =\",\n",
    "            str(minibatch_accuracy)\n",
    "            )"
   ]
  },
  {
   "cell_type": "code",
   "execution_count": 15,
   "metadata": {
    "colab": {
     "base_uri": "https://localhost:8080/",
     "height": 51
    },
    "colab_type": "code",
    "executionInfo": {
     "elapsed": 8228,
     "status": "ok",
     "timestamp": 1575409293630,
     "user": {
      "displayName": "Pedro Sanchez",
      "photoUrl": "https://lh3.googleusercontent.com/a-/AAuE7mCMr-sLtkn_DuimBhE5T8I0exHI_vS8yvOPBKarPLTIyG5Ayww_Bzke1jSuk0ZIEQPLmC8WsyKB7VwN-xI7JtH6dPRpyN1qiTiAaYUU3vZtSOqA6e71dHykZ07lBE6mGBM4JHUPNedTuW2542JbA5T4uTdEk7Ft1qgtEXD7K3GUCuQYlSpuRgpJm-6wudHZ_vAZjL1s2lZVJ4Mei58F2OmJG1nBjmGCfFzXqwzqYzk0IP-ZeUWRuIMbWZH-xlQ3z7P8aBCidwkodGv24Q2G6y7Kruxp551-ydsvL3zeFJWs3PB9wbEKGPUyCIknDAslzWRow8oCU1k-OhIs8Mn_EfJMizQbizr6IlfjtrQhrHaZVihxJLnqcnOHIaU9tgkmkdZWjkkeRA4xDOYMoWUGtS61hugCVDhsQHDPpn4yhiISmrS4j9XKQ4SF-tZKcJ9vHiBJ2imO7r6cvbDiAyguaDQDtf3S5n-_BfKuQWYSCIbJUoyXjS6cLUV3j9nwou_q7G5jw2uRv0YjSlY4iRaiT6F1Hd_wzIWkkpmtVipbDTIVES6O0JFxGgU1BAHmw1GSXpK4X75hHEXUUPheaQ12KNhs8OF5D7f9MN-s7AKTU6jhC58OvLWMk6xGp7MafxqVnsOAlrFy8BqVN3CXP7FIL842H7yj8kN-vWviGFaC_iZ_AlmEmXurZ6YHU6XPmfApOsibaBsW81aJ7lelLFcAzNJPB9JnbjkyLmQ13NOyMkctJHzt8N9P83GXxiPtP7k=s64",
      "userId": "12425416569280044021"
     },
     "user_tz": 480
    },
    "id": "7j2XGrMwp5Wi",
    "outputId": "7b5cbb6e-c240-4a21-a0e7-9e778a1a1da5"
   },
   "outputs": [
    {
     "name": "stdout",
     "output_type": "stream",
     "text": [
      "\n",
      "Accuracy on test set: 0.9256\n"
     ]
    }
   ],
   "source": [
    "test_accuracy = sess.run(accuracy, feed_dict={X: mnist.test.images, Y: mnist.test.labels, keep_prob: 1.0})\n",
    "print(\"\\nAccuracy on test set:\", test_accuracy) "
   ]
  },
  {
   "cell_type": "code",
   "execution_count": null,
   "metadata": {
    "colab": {},
    "colab_type": "code",
    "id": "yg2qobhaqEyU"
   },
   "outputs": [],
   "source": []
  }
 ],
 "metadata": {
  "colab": {
   "name": "tf_base.ipynb",
   "provenance": []
  },
  "kernelspec": {
   "display_name": "Python 3",
   "language": "python",
   "name": "python3"
  },
  "language_info": {
   "codemirror_mode": {
    "name": "ipython",
    "version": 3
   },
   "file_extension": ".py",
   "mimetype": "text/x-python",
   "name": "python",
   "nbconvert_exporter": "python",
   "pygments_lexer": "ipython3",
   "version": "3.7.6"
  }
 },
 "nbformat": 4,
 "nbformat_minor": 1
}
