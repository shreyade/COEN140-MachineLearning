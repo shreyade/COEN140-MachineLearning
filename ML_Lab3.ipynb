{
 "cells": [
  {
   "cell_type": "code",
   "execution_count": 2,
   "metadata": {
    "scrolled": true
   },
   "outputs": [],
   "source": [
    "import numpy as np\n",
    "import pandas as pd"
   ]
  },
  {
   "cell_type": "code",
   "execution_count": 3,
   "metadata": {},
   "outputs": [
    {
     "name": "stdout",
     "output_type": "stream",
     "text": [
      "     0    1    2    3            4\n",
      "0  5.1  3.5  1.4  0.2  Iris-setosa\n",
      "1  4.9  3.0  1.4  0.2  Iris-setosa\n",
      "2  4.7  3.2  1.3  0.2  Iris-setosa\n",
      "3  4.6  3.1  1.5  0.2  Iris-setosa\n",
      "4  5.0  3.6  1.4  0.2  Iris-setosa\n",
      "Iris-setosa        50\n",
      "Iris-versicolor    50\n",
      "Iris-virginica     50\n",
      "Name: 4, dtype: int64\n"
     ]
    }
   ],
   "source": [
    "data = pd.io.parsers.read_csv(\n",
    "    filepath_or_buffer ='http://www.cse.scu.edu/~yfang/coen140/iris.data',\n",
    "    header = None,\n",
    "    sep = ',',\n",
    "    )\n",
    "print(data.head())\n",
    "print(data[4].value_counts())"
   ]
  },
  {
   "cell_type": "code",
   "execution_count": 4,
   "metadata": {
    "scrolled": true
   },
   "outputs": [
    {
     "name": "stdout",
     "output_type": "stream",
     "text": [
      "(120, 5)\n",
      "(30, 5)\n"
     ]
    }
   ],
   "source": [
    "# Break sample into 80% for training & 20% for testing\n",
    "train_data = data[0:40].append(data[50:90]).append(data[100:140])\n",
    "test_data = data[40:50].append(data[90:100]).append(data[140:150])\n",
    "print(train_data.shape)\n",
    "print(test_data.shape)\n"
   ]
  },
  {
   "cell_type": "code",
   "execution_count": 6,
   "metadata": {},
   "outputs": [
    {
     "name": "stdout",
     "output_type": "stream",
     "text": [
      "Number of elements in training subset: 120\n",
      "Number of elements in testing subset: 30\n"
     ]
    }
   ],
   "source": [
    "x_train = train_data.iloc[:,:-1]\n",
    "x_test = test_data.iloc[:,:-1]\n",
    "y_train = train_data.iloc[:,-1]\n",
    "y_test = test_data.iloc[:,-1]\n",
    "print(\"Number of elements in training subset:\", len(x_train))\n",
    "print(\"Number of elements in testing subset:\", len(x_test))"
   ]
  },
  {
   "cell_type": "code",
   "execution_count": 7,
   "metadata": {},
   "outputs": [
    {
     "name": "stdout",
     "output_type": "stream",
     "text": [
      "['Iris-setosa' 'Iris-setosa' 'Iris-setosa' 'Iris-setosa' 'Iris-setosa'\n",
      " 'Iris-setosa' 'Iris-setosa' 'Iris-setosa' 'Iris-setosa' 'Iris-setosa'\n",
      " 'Iris-setosa' 'Iris-setosa' 'Iris-setosa' 'Iris-setosa' 'Iris-setosa'\n",
      " 'Iris-setosa' 'Iris-setosa' 'Iris-setosa' 'Iris-setosa' 'Iris-setosa'\n",
      " 'Iris-setosa' 'Iris-setosa' 'Iris-setosa' 'Iris-setosa' 'Iris-setosa'\n",
      " 'Iris-setosa' 'Iris-setosa' 'Iris-setosa' 'Iris-setosa' 'Iris-setosa'\n",
      " 'Iris-setosa' 'Iris-setosa' 'Iris-setosa' 'Iris-setosa' 'Iris-setosa'\n",
      " 'Iris-setosa' 'Iris-setosa' 'Iris-setosa' 'Iris-setosa' 'Iris-setosa'\n",
      " 'Iris-versicolor' 'Iris-versicolor' 'Iris-versicolor' 'Iris-versicolor'\n",
      " 'Iris-versicolor' 'Iris-versicolor' 'Iris-versicolor' 'Iris-versicolor'\n",
      " 'Iris-versicolor' 'Iris-versicolor' 'Iris-versicolor' 'Iris-versicolor'\n",
      " 'Iris-versicolor' 'Iris-versicolor' 'Iris-versicolor' 'Iris-versicolor'\n",
      " 'Iris-versicolor' 'Iris-versicolor' 'Iris-versicolor' 'Iris-versicolor'\n",
      " 'Iris-virginica' 'Iris-versicolor' 'Iris-versicolor' 'Iris-versicolor'\n",
      " 'Iris-versicolor' 'Iris-versicolor' 'Iris-versicolor' 'Iris-versicolor'\n",
      " 'Iris-versicolor' 'Iris-versicolor' 'Iris-versicolor' 'Iris-versicolor'\n",
      " 'Iris-versicolor' 'Iris-virginica' 'Iris-versicolor' 'Iris-versicolor'\n",
      " 'Iris-versicolor' 'Iris-versicolor' 'Iris-versicolor' 'Iris-versicolor'\n",
      " 'Iris-virginica' 'Iris-virginica' 'Iris-virginica' 'Iris-virginica'\n",
      " 'Iris-virginica' 'Iris-virginica' 'Iris-virginica' 'Iris-virginica'\n",
      " 'Iris-virginica' 'Iris-virginica' 'Iris-virginica' 'Iris-virginica'\n",
      " 'Iris-virginica' 'Iris-virginica' 'Iris-virginica' 'Iris-virginica'\n",
      " 'Iris-virginica' 'Iris-virginica' 'Iris-virginica' 'Iris-virginica'\n",
      " 'Iris-virginica' 'Iris-virginica' 'Iris-virginica' 'Iris-virginica'\n",
      " 'Iris-virginica' 'Iris-virginica' 'Iris-virginica' 'Iris-virginica'\n",
      " 'Iris-virginica' 'Iris-virginica' 'Iris-virginica' 'Iris-virginica'\n",
      " 'Iris-virginica' 'Iris-versicolor' 'Iris-virginica' 'Iris-virginica'\n",
      " 'Iris-virginica' 'Iris-virginica' 'Iris-virginica' 'Iris-virginica']\n",
      "['Iris-setosa' 'Iris-setosa' 'Iris-setosa' 'Iris-setosa' 'Iris-setosa'\n",
      " 'Iris-setosa' 'Iris-setosa' 'Iris-setosa' 'Iris-setosa' 'Iris-setosa'\n",
      " 'Iris-versicolor' 'Iris-versicolor' 'Iris-versicolor' 'Iris-versicolor'\n",
      " 'Iris-versicolor' 'Iris-versicolor' 'Iris-versicolor' 'Iris-versicolor'\n",
      " 'Iris-versicolor' 'Iris-versicolor' 'Iris-virginica' 'Iris-virginica'\n",
      " 'Iris-virginica' 'Iris-virginica' 'Iris-virginica' 'Iris-virginica'\n",
      " 'Iris-virginica' 'Iris-virginica' 'Iris-virginica' 'Iris-virginica']\n"
     ]
    }
   ],
   "source": [
    "#Building LDA classifier with sklearn\n",
    "\n",
    "from sklearn.discriminant_analysis import LinearDiscriminantAnalysis as LDA\n",
    "\n",
    "lda = LDA(solver = \"svd\", store_covariance=True)\n",
    "y_predicted_lda_train = lda.fit(x_train, y_train).predict(x_train)\n",
    "y_predicted_lda_test = lda.fit(x_train, y_train).predict(x_test)\n",
    "print(y_predicted_lda_train)\n",
    "print(y_predicted_lda_test)\n"
   ]
  },
  {
   "cell_type": "code",
   "execution_count": 8,
   "metadata": {},
   "outputs": [],
   "source": [
    "#Calculate Accuracy and print error rate of LDA\n",
    "\n",
    "def accuracy(analysis, test, total):\n",
    "    num_correct = 0\n",
    "    for i in range(total):\n",
    "        if analysis[i] == test.iloc[i]:\n",
    "            num_correct += 1\n",
    "        else:\n",
    "            print(\"\\nMismatch\")\n",
    "            print(analysis[i])\n",
    "            print(test.iloc[i])\n",
    "            print(\"Index:\",i)\n",
    "    accuracy = (num_correct/total) * 100\n",
    "    error = 100 - accuracy\n",
    "    return str(error)\n",
    "\n"
   ]
  },
  {
   "cell_type": "code",
   "execution_count": 24,
   "metadata": {},
   "outputs": [
    {
     "name": "stdout",
     "output_type": "stream",
     "text": [
      "\n",
      "Mismatch\n",
      "Iris-virginica\n",
      "Iris-versicolor\n",
      "Index: 60\n",
      "\n",
      "Mismatch\n",
      "Iris-virginica\n",
      "Iris-versicolor\n",
      "Index: 73\n",
      "\n",
      "Mismatch\n",
      "Iris-versicolor\n",
      "Iris-virginica\n",
      "Index: 113\n",
      "\n",
      "Error rate for LDA on training subset: 2.5%\n",
      "Error rate for LDA on testing subset: 0.0%\n"
     ]
    }
   ],
   "source": [
    "#printing error rate for LDA\n",
    "print(\"\\nError rate for LDA for training subset: \" + accuracy(y_predicted_lda_train, y_train, len(y_train)) + \"%\")\n",
    "print(\"Error rate for LDA for testing subset: \" + accuracy(y_predicted_lda_test, y_test, len(y_test)) + \"%\")\n",
    "\n"
   ]
  },
  {
   "cell_type": "code",
   "execution_count": 9,
   "metadata": {},
   "outputs": [
    {
     "name": "stdout",
     "output_type": "stream",
     "text": [
      "['Iris-setosa' 'Iris-setosa' 'Iris-setosa' 'Iris-setosa' 'Iris-setosa'\n",
      " 'Iris-setosa' 'Iris-setosa' 'Iris-setosa' 'Iris-setosa' 'Iris-setosa'\n",
      " 'Iris-setosa' 'Iris-setosa' 'Iris-setosa' 'Iris-setosa' 'Iris-setosa'\n",
      " 'Iris-setosa' 'Iris-setosa' 'Iris-setosa' 'Iris-setosa' 'Iris-setosa'\n",
      " 'Iris-setosa' 'Iris-setosa' 'Iris-setosa' 'Iris-setosa' 'Iris-setosa'\n",
      " 'Iris-setosa' 'Iris-setosa' 'Iris-setosa' 'Iris-setosa' 'Iris-setosa'\n",
      " 'Iris-setosa' 'Iris-setosa' 'Iris-setosa' 'Iris-setosa' 'Iris-setosa'\n",
      " 'Iris-setosa' 'Iris-setosa' 'Iris-setosa' 'Iris-setosa' 'Iris-setosa'\n",
      " 'Iris-versicolor' 'Iris-versicolor' 'Iris-versicolor' 'Iris-versicolor'\n",
      " 'Iris-versicolor' 'Iris-versicolor' 'Iris-versicolor' 'Iris-versicolor'\n",
      " 'Iris-versicolor' 'Iris-versicolor' 'Iris-versicolor' 'Iris-versicolor'\n",
      " 'Iris-versicolor' 'Iris-versicolor' 'Iris-versicolor' 'Iris-versicolor'\n",
      " 'Iris-versicolor' 'Iris-versicolor' 'Iris-versicolor' 'Iris-versicolor'\n",
      " 'Iris-virginica' 'Iris-versicolor' 'Iris-versicolor' 'Iris-versicolor'\n",
      " 'Iris-versicolor' 'Iris-versicolor' 'Iris-versicolor' 'Iris-versicolor'\n",
      " 'Iris-versicolor' 'Iris-versicolor' 'Iris-versicolor' 'Iris-versicolor'\n",
      " 'Iris-versicolor' 'Iris-virginica' 'Iris-versicolor' 'Iris-versicolor'\n",
      " 'Iris-versicolor' 'Iris-versicolor' 'Iris-versicolor' 'Iris-versicolor'\n",
      " 'Iris-virginica' 'Iris-virginica' 'Iris-virginica' 'Iris-virginica'\n",
      " 'Iris-virginica' 'Iris-virginica' 'Iris-virginica' 'Iris-virginica'\n",
      " 'Iris-virginica' 'Iris-virginica' 'Iris-virginica' 'Iris-virginica'\n",
      " 'Iris-virginica' 'Iris-virginica' 'Iris-virginica' 'Iris-virginica'\n",
      " 'Iris-virginica' 'Iris-virginica' 'Iris-virginica' 'Iris-virginica'\n",
      " 'Iris-virginica' 'Iris-virginica' 'Iris-virginica' 'Iris-virginica'\n",
      " 'Iris-virginica' 'Iris-virginica' 'Iris-virginica' 'Iris-virginica'\n",
      " 'Iris-virginica' 'Iris-virginica' 'Iris-virginica' 'Iris-virginica'\n",
      " 'Iris-virginica' 'Iris-virginica' 'Iris-virginica' 'Iris-virginica'\n",
      " 'Iris-virginica' 'Iris-virginica' 'Iris-virginica' 'Iris-virginica']\n",
      "['Iris-setosa' 'Iris-setosa' 'Iris-setosa' 'Iris-setosa' 'Iris-setosa'\n",
      " 'Iris-setosa' 'Iris-setosa' 'Iris-setosa' 'Iris-setosa' 'Iris-setosa'\n",
      " 'Iris-versicolor' 'Iris-versicolor' 'Iris-versicolor' 'Iris-versicolor'\n",
      " 'Iris-versicolor' 'Iris-versicolor' 'Iris-versicolor' 'Iris-versicolor'\n",
      " 'Iris-versicolor' 'Iris-versicolor' 'Iris-virginica' 'Iris-virginica'\n",
      " 'Iris-virginica' 'Iris-virginica' 'Iris-virginica' 'Iris-virginica'\n",
      " 'Iris-virginica' 'Iris-virginica' 'Iris-virginica' 'Iris-virginica']\n"
     ]
    }
   ],
   "source": [
    "#Building QDA classifier\n",
    "from sklearn.discriminant_analysis import QuadraticDiscriminantAnalysis as QDA\n",
    "\n",
    "qda = QDA(store_covariance=True)\n",
    "y_predicted_qda_train = qda.fit(x_train, y_train).predict(x_train)\n",
    "y_predicted_qda_test = qda.fit(x_train, y_train).predict(x_test)\n",
    "print(y_predicted_qda_train)\n",
    "print(y_predicted_qda_test)"
   ]
  },
  {
   "cell_type": "code",
   "execution_count": 10,
   "metadata": {},
   "outputs": [
    {
     "name": "stdout",
     "output_type": "stream",
     "text": [
      "\n",
      "Mismatch\n",
      "Iris-virginica\n",
      "Iris-versicolor\n",
      "Index: 60\n",
      "\n",
      "Mismatch\n",
      "Iris-virginica\n",
      "Iris-versicolor\n",
      "Index: 73\n",
      "\n",
      "Error rate for QDA for training subset: 1.6666666666666714%\n",
      "Error rate for QDA for testing subset: 0.0%\n"
     ]
    }
   ],
   "source": [
    "#print error rate for QDA \n",
    "\n",
    "print(\"\\nError rate for QDA for training subset: \" + accuracy(y_predicted_qda_train, y_train, len(y_train)) + \"%\")\n",
    "print(\"Error rate for QDA for testing subset: \" + accuracy(y_predicted_qda_test, y_test, len(y_test)) + \"%\")"
   ]
  },
  {
   "cell_type": "code",
   "execution_count": 11,
   "metadata": {},
   "outputs": [
    {
     "name": "stdout",
     "output_type": "stream",
     "text": [
      "{0: 'sepal length in cm', 1: 'sepal width in cm', 2: 'petal length in cm', 3: 'petal width in cm'}\n"
     ]
    }
   ],
   "source": [
    "#naming all the vals in the dataset \n",
    "feature_dict = {i:label for i,label in zip(range(4),\n",
    "                  ('sepal length in cm',\n",
    "                  'sepal width in cm',\n",
    "                  'petal length in cm',\n",
    "                  'petal width in cm', ))}\n",
    "print(feature_dict)"
   ]
  },
  {
   "cell_type": "code",
   "execution_count": 12,
   "metadata": {},
   "outputs": [
    {
     "name": "stdout",
     "output_type": "stream",
     "text": [
      "\n",
      "Mismatch\n",
      "Iris-versicolor\n",
      "Iris-virginica\n",
      "Index: 21\n",
      "\n",
      "Mismatch\n",
      "Iris-versicolor\n",
      "Iris-virginica\n",
      "Index: 21\n",
      "\n",
      "LDA error rates (%) when respective attribute is dropped:  {'sepal length in cm': '0.0', 'sepal width in cm': '0.0', 'petal length in cm': '0.0', 'petal width in cm': '3.3333333333333286'}\n",
      "QDA error rates (%) when respective attribute is dropped:  {'sepal length in cm': '0.0', 'sepal width in cm': '0.0', 'petal length in cm': '0.0', 'petal width in cm': '3.3333333333333286'}\n"
     ]
    }
   ],
   "source": [
    "#checking for non-important variables in classifying iris names\n",
    "LDA_accuracy = {}\n",
    "QDA_accuracy = {}\n",
    "\n",
    "for feature in range(0,4):\n",
    "    # drop chosen feature    \n",
    "    x_train_dropped = x_train.drop(feature,axis=1)\n",
    "    x_test_dropped = x_test.drop(feature,axis=1)\n",
    "    \n",
    "    # train with LDA and QDA with dropped feature \n",
    "    y_predicted_lda_test_dropped = lda.fit(x_train_dropped, y_train).predict(x_test_dropped)\n",
    "    y_predicted_qda_test_dropped = qda.fit(x_train_dropped, y_train).predict(x_test_dropped)\n",
    "    \n",
    "    # important to remember that dictionary values refer to error percentage\n",
    "    LDA_accuracy[feature] = accuracy(y_predicted_lda_test_dropped, y_test, len(y_test))\n",
    "    QDA_accuracy[feature] = accuracy(y_predicted_qda_test_dropped, y_test, len(y_test))\n",
    "    \n",
    "    # change the dictionary keys to be the flower attributes\n",
    "    LDA_accuracy[feature_dict[feature]] = LDA_accuracy.pop(feature)\n",
    "    QDA_accuracy[feature_dict[feature]] = QDA_accuracy.pop(feature)\n",
    "    \n",
    "print('\\nLDA error rates (%) when respective attribute is dropped: ', LDA_accuracy)\n",
    "print('QDA error rates (%) when respective attribute is dropped: ', QDA_accuracy)"
   ]
  },
  {
   "cell_type": "code",
   "execution_count": null,
   "metadata": {},
   "outputs": [],
   "source": [
    "# Results show that petal width variable is most important due to higher error rates when dropping it."
   ]
  }
 ],
 "metadata": {
  "kernelspec": {
   "display_name": "Python 3",
   "language": "python",
   "name": "python3"
  },
  "language_info": {
   "codemirror_mode": {
    "name": "ipython",
    "version": 3
   },
   "file_extension": ".py",
   "mimetype": "text/x-python",
   "name": "python",
   "nbconvert_exporter": "python",
   "pygments_lexer": "ipython3",
   "version": "3.7.6"
  }
 },
 "nbformat": 4,
 "nbformat_minor": 4
}
