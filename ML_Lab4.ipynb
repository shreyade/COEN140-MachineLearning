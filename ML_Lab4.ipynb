{
 "cells": [
  {
   "cell_type": "code",
   "execution_count": null,
   "metadata": {},
   "outputs": [],
   "source": [
    "import numpy as np\n",
    "import pandas as pd\n",
    "import math\n",
    "import time"
   ]
  },
  {
   "cell_type": "code",
   "execution_count": null,
   "metadata": {
    "scrolled": true
   },
   "outputs": [],
   "source": [
    "#store dataset from Website \n",
    "data = pd.io.parsers.read_csv(\n",
    "    filepath_or_buffer='http://www.cse.scu.edu/~yfang/coen140/iris.data',\n",
    "    header=None,\n",
    "    sep=',',\n",
    "    )\n",
    "print (data.head())\n",
    "print(data[4].value_counts())"
   ]
  },
  {
   "cell_type": "code",
   "execution_count": null,
   "metadata": {},
   "outputs": [],
   "source": [
    "#break sample into 80% for training and 20% for testing\n",
    "train_data = data[0:40].append(data[50:90]).append(data[100:140])\n",
    "test_data  = data[40:50].append(data[90:100]).append(data[140:150])"
   ]
  },
  {
   "cell_type": "code",
   "execution_count": null,
   "metadata": {},
   "outputs": [],
   "source": [
    "#categorize flowers\n",
    "setosa = train_data[train_data[4] == 'Iris-setosa']\n",
    "versicolor = train_data[train_data[4] == 'Iris-versicolor']\n",
    "virginica = train_data[train_data[4] == 'Iris-virginica']"
   ]
  },
  {
   "cell_type": "code",
   "execution_count": null,
   "metadata": {},
   "outputs": [],
   "source": [
    "print(setosa.head())\n",
    "print(versicolor.head())\n",
    "print(virginica.head())\n",
    "\n"
   ]
  },
  {
   "cell_type": "code",
   "execution_count": null,
   "metadata": {},
   "outputs": [],
   "source": [
    "#drop labels\n",
    "train_setosa = setosa.drop(4,axis=1)\n",
    "train_versicolor = versicolor.drop(4,axis=1)\n",
    "train_virginica = virginica.drop(4,axis=1)"
   ]
  },
  {
   "cell_type": "code",
   "execution_count": null,
   "metadata": {},
   "outputs": [],
   "source": [
    "#probability density function\n",
    "def PDF(x, mean, cov):\n",
    "    k = x.shape[0]\n",
    "    first_val = 1/math.sqrt(((2.0 * math.pi) ** k) * np.linalg.det(cov)) \n",
    "    second_val = math.exp(-0.5 * np.dot(np.dot((x - mean),np.linalg.inv(cov)),\n",
    "                                        (x - mean)[np.newaxis].T))\n",
    "    return first_val * second_val"
   ]
  },
  {
   "cell_type": "code",
   "execution_count": null,
   "metadata": {},
   "outputs": [],
   "source": [
    "#computing sample mean\n",
    "def my_means(matrix):\n",
    "    means = []\n",
    "    for attribute in matrix.values.T:\n",
    "        means.append(attribute.sum()/float(matrix.shape[0]))\n",
    "    return np.array(means)"
   ]
  },
  {
   "cell_type": "code",
   "execution_count": null,
   "metadata": {},
   "outputs": [],
   "source": [
    "#computing sample covariance\n",
    "def my_cov(X):\n",
    "    total_cov = np.zeros((X.shape[1], X.shape[1]))\n",
    "    mean = my_means(X)\n",
    "    for row in range(X.shape[0]):\n",
    "        total_cov += np.outer((X.iloc[row].values - mean),(X.iloc[row].values - mean))\n",
    "    cov = total_cov/float(X.shape[0]-1)\n",
    "    return cov"
   ]
  },
  {
   "cell_type": "code",
   "execution_count": null,
   "metadata": {},
   "outputs": [],
   "source": [
    "means = {}\n",
    "means['setosa']  = my_means(train_setosa)\n",
    "means['versicolor'] = my_means(train_versicolor)\n",
    "means['virginica'] = my_means(train_virginica)\n",
    "\n",
    "covs = {}\n",
    "covs['setosa'] = my_cov(train_setosa)\n",
    "covs['versicolor'] = my_cov(train_versicolor)\n",
    "covs['virginica'] = my_cov(train_virginica)\n",
    "\n",
    "cov_avg = (covs['setosa'] + covs['versicolor'] + covs['virginica'])/3.0\n",
    "\n",
    "print (means)\n",
    "print (covs)"
   ]
  },
  {
   "cell_type": "code",
   "execution_count": null,
   "metadata": {},
   "outputs": [],
   "source": [
    "#helper function to calculate accuracy\n",
    "def accuracy(classifier, subset):\n",
    "    n_correct = 0\n",
    "    for row in subset.iterrows():\n",
    "        x = np.array(row[1][0:4])\n",
    "        actual = row[1][4]\n",
    "        \n",
    "        #classifier = 1: LDA\n",
    "        #classifier = 2: QDA\n",
    "        #classifier = 3: QDA with Independent Features\n",
    "        if classifier == 1:\n",
    "            if LDA(x, means, cov_avg) == actual:\n",
    "                n_correct += 1\n",
    "        elif classifier == 2:\n",
    "            if QDA(x, means, covs) == actual:\n",
    "                n_correct += 1\n",
    "        elif classifier == 3:\n",
    "            if QDA(x, means, independent_covs) == actual:\n",
    "                n_correct += 1\n",
    "        else:\n",
    "            raise ValueError(\"Classifier unknown. Please try again\")\n",
    "    accuracy = (n_correct/float(len(subset)) * 100)\n",
    "    error = 100 - accuracy\n",
    "    return str(error)"
   ]
  },
  {
   "cell_type": "code",
   "execution_count": null,
   "metadata": {},
   "outputs": [],
   "source": [
    "#LDA classifier for training data\n",
    "def LDA(x, mean, avg_cov):\n",
    "    prob = {}\n",
    "    prob['Iris-setosa'] = PDF(x,mean['setosa'], avg_cov)\n",
    "    prob['Iris-versicolor'] = PDF(x,mean['versicolor'], avg_cov)\n",
    "    prob['Iris-verginica'] = PDF(x, mean['virginica'], avg_cov)\n",
    "    \n",
    "    return max(prob, key = prob.get)"
   ]
  },
  {
   "cell_type": "code",
   "execution_count": null,
   "metadata": {},
   "outputs": [],
   "source": [
    "#Evaluate LDA Accuracy on Training Set\n",
    "print(\"Training accuracy for LDA: \" + accuracy(1, train_data) + \"%\")"
   ]
  },
  {
   "cell_type": "code",
   "execution_count": null,
   "metadata": {},
   "outputs": [],
   "source": [
    "#Evaluate LDA Accuracy on Testing Set \n",
    "print(\"Testing accuracy for LDA: \" + accuracy(1, test_data) + \"%\")"
   ]
  },
  {
   "cell_type": "code",
   "execution_count": null,
   "metadata": {},
   "outputs": [],
   "source": [
    "#QDA classifier for training data\n",
    "def QDA(x, mean, covs):\n",
    "    prob = {}\n",
    "    prob['Iris-setosa'] = PDF(x,mean['setosa'], covs)\n",
    "    prob['Iris-versicolor'] = PDF(x,mean['versicolor'], covs)\n",
    "    prob['Iris-verginica'] = PDF(x, mean['virginica'], covs)\n",
    "    \n",
    "    return max(prob, key = prob.get)"
   ]
  },
  {
   "cell_type": "code",
   "execution_count": null,
   "metadata": {},
   "outputs": [],
   "source": [
    "#QDA accuracy for training data\n",
    "print(\"Training accuracy for QDA: \" + accuracy(2, train_data) + \"%\")"
   ]
  },
  {
   "cell_type": "code",
   "execution_count": null,
   "metadata": {},
   "outputs": [],
   "source": [
    "#QDA Accuracy for testing data\n",
    "print(\"Testing accuracy for QDA: \" + accuracy(2, test_data) + \"%\")"
   ]
  },
  {
   "cell_type": "code",
   "execution_count": null,
   "metadata": {},
   "outputs": [],
   "source": [
    "#checking if any class is linearly separable\n",
    "\n",
    "categories = ['Iris-setosa','Iris-versicolor','Iris-virginica']\n",
    "\n",
    "# run LDA on each separate class\n",
    "for category in categories:\n",
    "    flower_class = data[data[4] == category]\n",
    "    n_correct = 0\n",
    "    for row in flower_class.iterrows():\n",
    "        x = np.array(row[1][0:4])\n",
    "        actual = row[1][4]\n",
    "        predicted = LDA(x,means,cov_avg)\n",
    "        if predicted == actual:\n",
    "            n_correct += 1\n",
    "    accuracy = (n_correct/float(len(flower_class)) * 100)\n",
    "    error = 100 - accuracy\n",
    "    print(category, \"error rate:\", error, \"%\")"
   ]
  },
  {
   "cell_type": "code",
   "execution_count": null,
   "metadata": {
    "scrolled": true
   },
   "outputs": [],
   "source": [
    "#assume features are independent \n",
    "\n",
    "#convert cov matrices to diagonal \n",
    "independent_covs = {}\n",
    "for category, cov in covs.items():\n",
    "    \n",
    "    # setup each category to have a 4 x 4 identity matrix\n",
    "    independent_covs[category] = np.zeros(cov.shape)\n",
    "    \n",
    "    # add diagonal values from cov matrices to identity matrix\n",
    "    for row in range(cov.shape[0]):\n",
    "        for col in range(cov.shape[1]):\n",
    "            if row == col:\n",
    "                independent_covs[category][row][col] = cov[row][col]\n",
    "    print(independent_covs[category])"
   ]
  },
  {
   "cell_type": "code",
   "execution_count": null,
   "metadata": {},
   "outputs": [],
   "source": []
  },
  {
   "cell_type": "code",
   "execution_count": null,
   "metadata": {},
   "outputs": [],
   "source": [
    "#calculate time & error rates for QDA \n",
    "qda_start_time = time.time() * 1000\n",
    "print(\"Training Accuracy for QDA: \" + accuracy(2, train) + \"%\")\n",
    "print(\"Testing Accuracy for QDA: \" + accuracy(2, test) + \"%\")\n",
    "print(\"Time taken for QDA:\", (time.time() * 1000)- qda_start_time, \"ms\\n\")\n",
    "\n",
    "# calculate the time and error rates for QDA with independent features\n",
    "independent_start_time = time.time() * 1000\n",
    "print(\"Training accuracy for QDA with independent features : \" + calculate_accuracy(3, train) + \"%\")\n",
    "print(\"Testing accuracy for QDA with independent features : \" + calculate_accuracy(3, test) + \"%\")\n",
    "print(\"Time taken for QDA with independent features:\", (time.time() * 1000) - independent_start_time, \"ms\")"
   ]
  },
  {
   "cell_type": "code",
   "execution_count": null,
   "metadata": {},
   "outputs": [],
   "source": []
  },
  {
   "cell_type": "code",
   "execution_count": null,
   "metadata": {},
   "outputs": [],
   "source": []
  }
 ],
 "metadata": {
  "kernelspec": {
   "display_name": "Python 3",
   "language": "python",
   "name": "python3"
  },
  "language_info": {
   "codemirror_mode": {
    "name": "ipython",
    "version": 3
   },
   "file_extension": ".py",
   "mimetype": "text/x-python",
   "name": "python",
   "nbconvert_exporter": "python",
   "pygments_lexer": "ipython3",
   "version": "3.7.6"
  }
 },
 "nbformat": 4,
 "nbformat_minor": 4
}
